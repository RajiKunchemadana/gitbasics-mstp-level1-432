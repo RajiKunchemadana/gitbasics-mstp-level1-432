{
 "cells": [
  {
   "cell_type": "code",
   "execution_count": 1,
   "metadata": {},
   "outputs": [],
   "source": [
    "# write a progarm to create a file\n",
    "filepath=\"content.txt\"\n",
    "def create(filepath):\n",
    "    with open(filepath,'w') as f:\n",
    "        f.write(\"hi\\nhello\\nwelcome to python\")\n",
    "create(filepath)"
   ]
  },
  {
   "cell_type": "code",
   "execution_count": 2,
   "metadata": {},
   "outputs": [
    {
     "name": "stdout",
     "output_type": "stream",
     "text": [
      "hi\n",
      "hello\n",
      "welcome to python\n"
     ]
    }
   ],
   "source": [
    "filepath=\"content.txt\"\n",
    "def readdata(filepath):\n",
    "    with open(\"content.txt\",'r') as f:\n",
    "        f1=f.read()\n",
    "        print(f1)\n",
    "readdata(filepath)\n"
   ]
  },
  {
   "cell_type": "code",
   "execution_count": 15,
   "metadata": {},
   "outputs": [],
   "source": [
    "filepath=\"studentmarks\"\n",
    "import random\n",
    "def student(filepath,n):\n",
    "    with open(filepath,'w') as f:\n",
    "        for i in range(n):\n",
    "            f.write(str(random.randint(1,100))+'\\n')\n",
    "\n",
    "student(filepath,50)     "
   ]
  },
  {
   "cell_type": "code",
   "execution_count": 20,
   "metadata": {},
   "outputs": [
    {
     "name": "stdout",
     "output_type": "stream",
     "text": [
      "2774\n",
      "50\n"
     ]
    },
    {
     "data": {
      "text/plain": [
       "55"
      ]
     },
     "execution_count": 20,
     "metadata": {},
     "output_type": "execute_result"
    }
   ],
   "source": [
    "filepath=\"studentmarks\"\n",
    "def classavg(filepath):\n",
    "    s=0\n",
    "    c=0\n",
    "    with open(filepath,'r') as f:\n",
    "        f1=f.read()\n",
    "        l=f1.split()\n",
    "        for i in l:\n",
    "            s=s+int(i)\n",
    "            c=c+1\n",
    "        avg=s//c\n",
    "        print(s)\n",
    "        print(c)\n",
    "    return avg\n",
    "classavg(filepath)\n",
    "            "
   ]
  },
  {
   "cell_type": "code",
   "execution_count": 49,
   "metadata": {},
   "outputs": [
    {
     "name": "stdout",
     "output_type": "stream",
     "text": [
      "50\n",
      "70.0\n"
     ]
    }
   ],
   "source": [
    "filepath=\"studentmarks\"\n",
    "def classavg(filepath):\n",
    "    passedcount=0\n",
    "    totalcount=0\n",
    "    with open(filepath,'r') as f:\n",
    "        f1=f.read()\n",
    "        l=f1.split()\n",
    "        for i in l:\n",
    "            totalcount+=1\n",
    "            i=int(i)\n",
    "            if(i>=35):\n",
    "                passedcount+=1\n",
    "        print(totalcount)\n",
    "        print((passedcount/totalcount)*100)\n",
    "classavg(filepath)\n",
    "            "
   ]
  },
  {
   "cell_type": "code",
   "execution_count": 55,
   "metadata": {},
   "outputs": [
    {
     "name": "stdout",
     "output_type": "stream",
     "text": [
      "11 6 15 12 11 7 17 "
     ]
    }
   ],
   "source": [
    "filepath=\"studentmarks\"\n",
    "def classavg(filepath):\n",
    "    s=0\n",
    "    with open(filepath,'r') as f:\n",
    "        f1=f.read()\n",
    "        l=f1.split()\n",
    "        for i in l:\n",
    "            i=int(i)\n",
    "            if(i<=20):\n",
    "                s=s+1\n",
    "                print(i,end=\" \")\n",
    "classavg(filepath)"
   ]
  },
  {
   "cell_type": "code",
   "execution_count": 54,
   "metadata": {},
   "outputs": [
    {
     "name": "stdout",
     "output_type": "stream",
     "text": [
      "97 96 99 93 92 100 "
     ]
    }
   ],
   "source": [
    "filepath=\"studentmarks\"\n",
    "def classavg(filepath):\n",
    "    s=0\n",
    "    with open(filepath,'r') as f:\n",
    "        f1=f.read()\n",
    "        l=f1.split()\n",
    "        for i in l:\n",
    "            i=int(i)\n",
    "            if(i>=90):\n",
    "                s=s+1\n",
    "                print(i,end=\" \")\n",
    "classavg(filepath)"
   ]
  },
  {
   "cell_type": "code",
   "execution_count": 53,
   "metadata": {},
   "outputs": [
    {
     "name": "stdout",
     "output_type": "stream",
     "text": [
      "50\n",
      "30.0\n"
     ]
    }
   ],
   "source": [
    "filepath=\"studentmarks\"\n",
    "def classavg(filepath):\n",
    "    passedcount=0\n",
    "    totalcount=0\n",
    "    with open(filepath,'r') as f:\n",
    "        f1=f.read()\n",
    "        l=f1.split()\n",
    "        for i in l:\n",
    "            totalcount+=1\n",
    "            i=int(i)\n",
    "            if(i<=35):\n",
    "                passedcount+=1\n",
    "        print(totalcount)\n",
    "        print((passedcount/totalcount)*100)\n",
    "classavg(filepath)\n",
    "            "
   ]
  },
  {
   "cell_type": "code",
   "execution_count": 59,
   "metadata": {},
   "outputs": [
    {
     "name": "stdout",
     "output_type": "stream",
     "text": [
      "50\n",
      "12.0\n"
     ]
    }
   ],
   "source": [
    "# first class percentage\n",
    "filepath=\"studentmarks\"\n",
    "def classavg(filepath):\n",
    "    passedcount=0\n",
    "    totalcount=0\n",
    "    with open(filepath,'r') as f:\n",
    "        f1=f.read()\n",
    "        l=f1.split()\n",
    "        for i in l:\n",
    "            totalcount+=1\n",
    "            i=int(i)\n",
    "            if(i>=90):\n",
    "                passedcount+=1\n",
    "        print(totalcount)\n",
    "        print((passedcount/totalcount)*100)\n",
    "classavg(filepath)\n",
    "            "
   ]
  },
  {
   "cell_type": "code",
   "execution_count": 61,
   "metadata": {},
   "outputs": [
    {
     "name": "stdout",
     "output_type": "stream",
     "text": [
      "50\n",
      "38.0\n"
     ]
    }
   ],
   "source": [
    "#second class percentage\n",
    "filepath=\"studentmarks\"\n",
    "def classavg(filepath):\n",
    "    passedcount=0\n",
    "    totalcount=0\n",
    "    with open(filepath,'r') as f:\n",
    "        f1=f.read()\n",
    "        l=f1.split()\n",
    "        for i in l:\n",
    "            totalcount+=1\n",
    "            i=int(i)\n",
    "            if(i>=70):\n",
    "                passedcount+=1\n",
    "        print(totalcount)\n",
    "        print((passedcount/totalcount)*100)\n",
    "classavg(filepath)\n",
    "           "
   ]
  },
  {
   "cell_type": "code",
   "execution_count": 62,
   "metadata": {},
   "outputs": [
    {
     "name": "stdout",
     "output_type": "stream",
     "text": [
      "50\n",
      "50.0\n"
     ]
    }
   ],
   "source": [
    "#third class percentage\n",
    "filepath=\"studentmarks\"\n",
    "def classavg(filepath):\n",
    "    passedcount=0\n",
    "    totalcount=0\n",
    "    with open(filepath,'r') as f:\n",
    "        f1=f.read()\n",
    "        l=f1.split()\n",
    "        for i in l:\n",
    "            totalcount+=1\n",
    "            i=int(i)\n",
    "            if(i>=60):\n",
    "                passedcount+=1\n",
    "        print(totalcount)\n",
    "        print((passedcount/totalcount)*100)\n",
    "classavg(filepath)\n",
    "           "
   ]
  },
  {
   "cell_type": "code",
   "execution_count": 66,
   "metadata": {},
   "outputs": [
    {
     "name": "stdout",
     "output_type": "stream",
     "text": [
      "hi 1\n",
      "hello 1\n",
      "welcome 1\n",
      "to 1\n",
      "python 1\n"
     ]
    }
   ],
   "source": [
    "# frequency of words using list\n",
    "filepath=\"content.txt\"\n",
    "def word(filepath):\n",
    "    with open(\"content.txt\",'r') as f:\n",
    "        f1=f.read()\n",
    "        l=f1.split()\n",
    "        for i in l:\n",
    "            print(i,l.count(i))\n",
    "word(filepath)\n"
   ]
  },
  {
   "cell_type": "code",
   "execution_count": 67,
   "metadata": {},
   "outputs": [
    {
     "name": "stdout",
     "output_type": "stream",
     "text": [
      "python 1\n",
      "hi 1\n",
      "hello 2\n",
      "to 1\n",
      "welcome 1\n"
     ]
    }
   ],
   "source": [
    "# frequency of words using set\n",
    "filepath=\"content.txt\"\n",
    "def word(filepath):\n",
    "    with open(\"content.txt\",'r') as f:\n",
    "        f1=f.read()\n",
    "        l=f1.split()\n",
    "        for i in set(l):\n",
    "            print(i,l.count(i))\n",
    "word(filepath)\n"
   ]
  },
  {
   "cell_type": "code",
   "execution_count": 85,
   "metadata": {},
   "outputs": [
    {
     "data": {
      "text/plain": [
       "{'hi': 1, 'hello': 2, 'welcome': 1, 'to': 1, 'python': 1}"
      ]
     },
     "execution_count": 85,
     "metadata": {},
     "output_type": "execute_result"
    }
   ],
   "source": [
    "#frequency of word using dictionaries\n",
    "filepath=\"content.txt\"\n",
    "def word(filepath):\n",
    "    d={}\n",
    "    with open(\"content.txt\",'r') as f:\n",
    "        f1=f.read()\n",
    "        l=f1.split()\n",
    "        #print(l)\n",
    "        for i in l:\n",
    "            d[i]=l.count(i)\n",
    "    return d \n",
    "word(filepath)\n"
   ]
  },
  {
   "cell_type": "code",
   "execution_count": 79,
   "metadata": {},
   "outputs": [
    {
     "name": "stdout",
     "output_type": "stream",
     "text": [
      "{'u': 1, 'm': 2, 'a': 1, ' ': 2, 'c': 1, 'o': 1, 'l': 2, 'e': 2, 'g': 1, 's': 1, 't': 1, 'p': 1}\n"
     ]
    }
   ],
   "source": [
    "d={}\n",
    "s=\"uma college mstp\"\n",
    "for i in s:\n",
    "    #print(i,s.count(i),end=\" \")\n",
    "    d[i]=s.count(i)\n",
    "print(d)"
   ]
  },
  {
   "cell_type": "code",
   "execution_count": 87,
   "metadata": {},
   "outputs": [
    {
     "name": "stdout",
     "output_type": "stream",
     "text": [
      "hi\n",
      "hello\n",
      "welcome to python\n",
      "hello college\n",
      "hello\n",
      "welcome to python\n",
      "hello "
     ]
    }
   ],
   "source": [
    "# replace of data to a nem file\n",
    "filepath=\"content.txt\"\n",
    "def find(filepath):\n",
    "    with open(filepath,'r') as f:\n",
    "        f1=f.read()\n",
    "        s=f1.replace(\"hi\",\"college\")\n",
    "    print(f1,end=\" \")\n",
    "    print(s,end=\" \")\n",
    "find(filepath)"
   ]
  },
  {
   "cell_type": "code",
   "execution_count": null,
   "metadata": {},
   "outputs": [],
   "source": []
  }
 ],
 "metadata": {
  "kernelspec": {
   "display_name": "Python 3",
   "language": "python",
   "name": "python3"
  },
  "language_info": {
   "codemirror_mode": {
    "name": "ipython",
    "version": 3
   },
   "file_extension": ".py",
   "mimetype": "text/x-python",
   "name": "python",
   "nbconvert_exporter": "python",
   "pygments_lexer": "ipython3",
   "version": "3.7.3"
  }
 },
 "nbformat": 4,
 "nbformat_minor": 2
}
