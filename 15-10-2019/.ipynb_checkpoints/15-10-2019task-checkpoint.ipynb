{
 "cells": [
  {
   "cell_type": "code",
   "execution_count": 1,
   "metadata": {},
   "outputs": [
    {
     "name": "stdout",
     "output_type": "stream",
     "text": [
      "50\n",
      "12.0\n"
     ]
    }
   ],
   "source": [
    "# first class percentage\n",
    "filepath=\"studentmarks\"\n",
    "def classavg(filepath):\n",
    "    passedcount=0\n",
    "    totalcount=0\n",
    "    with open(filepath,'r') as f:\n",
    "        f1=f.read()\n",
    "        l=f1.split()\n",
    "        for i in l:\n",
    "            totalcount+=1\n",
    "            i=int(i)\n",
    "            if(i>=90):\n",
    "                passedcount+=1\n",
    "        print(totalcount)\n",
    "        print((passedcount/totalcount)*100)\n",
    "classavg(filepath)\n",
    "            "
   ]
  },
  {
   "cell_type": "code",
   "execution_count": 4,
   "metadata": {},
   "outputs": [
    {
     "name": "stdout",
     "output_type": "stream",
     "text": [
      "50\n",
      "26.0\n"
     ]
    }
   ],
   "source": [
    "#second class percentage\n",
    "filepath=\"studentmarks\"\n",
    "def classavg(filepath):\n",
    "    passedcount=0\n",
    "    totalcount=0\n",
    "    with open(filepath,'r') as f:\n",
    "        f1=f.read()\n",
    "        l=f1.split()\n",
    "        for i in l:\n",
    "            totalcount+=1\n",
    "            i=int(i)\n",
    "            if(70<=i<=90):\n",
    "                passedcount+=1\n",
    "        print(totalcount)\n",
    "        print((passedcount/totalcount)*100)\n",
    "classavg(filepath)\n",
    "           "
   ]
  },
  {
   "cell_type": "code",
   "execution_count": 6,
   "metadata": {},
   "outputs": [
    {
     "name": "stdout",
     "output_type": "stream",
     "text": [
      "50\n",
      "30.0\n"
     ]
    }
   ],
   "source": [
    "#third class percentage\n",
    "filepath=\"studentmarks\"\n",
    "def classavg(filepath):\n",
    "    passedcount=0\n",
    "    totalcount=0\n",
    "    with open(filepath,'r') as f:\n",
    "        f1=f.read()\n",
    "        l=f1.split()\n",
    "        for i in l:\n",
    "            totalcount+=1\n",
    "            i=int(i)\n",
    "            if(50<=i<=70):\n",
    "                passedcount+=1\n",
    "        print(totalcount)\n",
    "        print((passedcount/totalcount)*100)\n",
    "classavg(filepath)\n",
    "           "
   ]
  },
  {
   "cell_type": "code",
   "execution_count": null,
   "metadata": {},
   "outputs": [],
   "source": []
  }
 ],
 "metadata": {
  "kernelspec": {
   "display_name": "Python 3",
   "language": "python",
   "name": "python3"
  },
  "language_info": {
   "codemirror_mode": {
    "name": "ipython",
    "version": 3
   },
   "file_extension": ".py",
   "mimetype": "text/x-python",
   "name": "python",
   "nbconvert_exporter": "python",
   "pygments_lexer": "ipython3",
   "version": "3.7.3"
  }
 },
 "nbformat": 4,
 "nbformat_minor": 2
}
