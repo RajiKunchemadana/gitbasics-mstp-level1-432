{
 "cells": [
  {
   "cell_type": "markdown",
   "metadata": {},
   "source": [
    "# Handling csv files"
   ]
  },
  {
   "cell_type": "code",
   "execution_count": 1,
   "metadata": {},
   "outputs": [],
   "source": [
    "filename=\"mstp.txt\"\n",
    "def name(filename):\n",
    "    with open(filename,'w') as f:\n",
    "        f.write(\"mango\"+\",\"+\"apple\"+\",\"+\"orange\")\n",
    "name(filename)"
   ]
  },
  {
   "cell_type": "code",
   "execution_count": 4,
   "metadata": {},
   "outputs": [],
   "source": [
    "with open(filename,'a') as f:\n",
    "    f.write(\"\\ncse\"+\",\"+\"ece\"+\",\"+\"eee\"+\",\"+\"civil\")\n"
   ]
  },
  {
   "cell_type": "code",
   "execution_count": 6,
   "metadata": {},
   "outputs": [
    {
     "name": "stdout",
     "output_type": "stream",
     "text": [
      "mango,apple,orangecse,ece,eee,civil\n",
      "\n"
     ]
    }
   ],
   "source": [
    "with open(filename,'r') as f:\n",
    "    s=f.readlines()\n",
    "    print(s[0])"
   ]
  },
  {
   "cell_type": "code",
   "execution_count": 9,
   "metadata": {},
   "outputs": [],
   "source": [
    "filename=\"contact.txt\"\n",
    "with open(filename,'a') as f:\n",
    "    f.write(\"uma\"+\",\"+\"12345678\"+\",\"+\"uma@gmail.com\")\n",
    "    f.write(\"\\nlalasa\"+\",\"+\"34566809\"+\",\"+\"lalasa@gmail.com\")\n"
   ]
  },
  {
   "cell_type": "code",
   "execution_count": 20,
   "metadata": {},
   "outputs": [
    {
     "name": "stdout",
     "output_type": "stream",
     "text": [
      "[['uma', '12345678', 'uma@gmail.com\\n'], ['lalasa', '34566809', 'lalasa@gmail.com']]\n",
      "12345678\n",
      "uma@gmail.com\n",
      "\n"
     ]
    },
    {
     "data": {
      "text/plain": [
       "[['uma', '12345678', 'uma@gmail.com\\n'],\n",
       " ['lalasa', '34566809', 'lalasa@gmail.com']]"
      ]
     },
     "execution_count": 20,
     "metadata": {},
     "output_type": "execute_result"
    }
   ],
   "source": [
    "def csvtolist(filename):\n",
    "    with open(filename,'r') as f:\n",
    "        l=[]\n",
    "        for line in f:\n",
    "            l.append(line.split(\",\"))\n",
    "        print(l)\n",
    "        print(l[0][1])\n",
    "        print(l[0][2])\n",
    "    return l \n",
    "        \n",
    "csvtolist(filename)"
   ]
  },
  {
   "cell_type": "code",
   "execution_count": 22,
   "metadata": {},
   "outputs": [
    {
     "name": "stdout",
     "output_type": "stream",
     "text": [
      "[['uma', '12345678', 'uma@gmail.com\\n'], ['lalasa', '34566809', 'lalasa@gmail.com']]\n",
      "12345678\n",
      "uma@gmail.com\n",
      "\n",
      "uma,12345678,uma@gmail.com\n",
      "lalasa,34566809,lalasa@gmail.com\n"
     ]
    }
   ],
   "source": [
    "def listtocsv(filename):\n",
    "    d=csvtolist(filename)\n",
    "    s=\"\"\n",
    "    for i in d:\n",
    "        s+=\",\".join(i)\n",
    "    print(s)\n",
    "listtocsv(filename)"
   ]
  },
  {
   "cell_type": "code",
   "execution_count": 53,
   "metadata": {},
   "outputs": [
    {
     "name": "stdout",
     "output_type": "stream",
     "text": [
      "[['uma', '12345678', 'uma@gmail.com\\n'], ['lalasa', '34566809', 'lalasa@gmail.com\\n'], ['ammu', '8919995471', 'lalasa510@gmail.com']]\n",
      "12345678\n",
      "uma@gmail.com\n",
      "\n",
      "contact already exist\n"
     ]
    }
   ],
   "source": [
    "import re\n",
    "def phonenumber(no):\n",
    "    pattern='^[+][9][1][6-9][0-9]{9}$|^[0][6-9][0-9]{9}$|^[6-9][0-9]{9}$'\n",
    "    if re.match(pattern,str(no)):\n",
    "        return 1\n",
    "    else:\n",
    "        return 0\n",
    "def email(id_):\n",
    "    pattern= '^([a-z]|[A-Z]|[0-9])([a-z]|[A-Z]|[0-9]|[_]){6,15}([0-9]|[a-z])[@][a-z]{3,10}[.][a-z]{2,4}$'\n",
    "    if re.match(pattern,id_):\n",
    "        return 1\n",
    "    else:\n",
    "        return 0\n",
    "def searchcontact(name,filename):\n",
    "    s=csvtolist(filename)\n",
    "    for i in s:\n",
    "        if i[0]==name:\n",
    "            return 1\n",
    "    return 0\n",
    "def addcontact(name,no,id_,filename):\n",
    "    if searchcontact(name,filename)==0:\n",
    "        if phonenumber(no)==1:\n",
    "            print(\"phone no succefully added\")\n",
    "            if email(id_)==1:\n",
    "                print(\"email added successfully\")\n",
    "                with open (filename,'a') as f:\n",
    "                    f.write(\"\\n\"+name+\",\"+no+\",\"+id_)\n",
    "                    print(\"contact added successfully\")\n",
    "    else:\n",
    "        print(\"contact already exist\")\n",
    "addcontact(\"ammu\",\"8919995471\",\"lalasa510@gmail.com\",\"contact.txt\")\n",
    "        "
   ]
  },
  {
   "cell_type": "code",
   "execution_count": 51,
   "metadata": {},
   "outputs": [
    {
     "name": "stdout",
     "output_type": "stream",
     "text": [
      "successfully\n"
     ]
    }
   ],
   "source": [
    "def email(id_):\n",
    "    pattern= '^([a-z]|[A-Z]|[0-9])([a-z]|[A-Z]|[0-9]|[_]){6,15}([0-9]|[a-z])[@][a-z]{3,10}[.][a-z]{2,4}$'\n",
    "    if re.match(pattern,str(id_)):\n",
    "        print(\"successfully\")\n",
    "    else:\n",
    "        print(\"not\")\n",
    "email(\"lalasacse510@gmail.com\")"
   ]
  },
  {
   "cell_type": "code",
   "execution_count": null,
   "metadata": {},
   "outputs": [],
   "source": []
  }
 ],
 "metadata": {
  "kernelspec": {
   "display_name": "Python 3",
   "language": "python",
   "name": "python3"
  },
  "language_info": {
   "codemirror_mode": {
    "name": "ipython",
    "version": 3
   },
   "file_extension": ".py",
   "mimetype": "text/x-python",
   "name": "python",
   "nbconvert_exporter": "python",
   "pygments_lexer": "ipython3",
   "version": "3.7.3"
  }
 },
 "nbformat": 4,
 "nbformat_minor": 2
}
