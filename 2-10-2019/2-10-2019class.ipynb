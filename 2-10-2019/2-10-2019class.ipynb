{
 "cells": [
  {
   "cell_type": "markdown",
   "metadata": {},
   "source": [
    "# Regular expressions"
   ]
  },
  {
   "cell_type": "markdown",
   "metadata": {},
   "source": [
    "* abc--->that matches the character sequence,but anywhere in the string\n",
    "* ^abc--->abc at the beginning of the string\n",
    "* abc$---->abc at the end of the string\n",
    "* ^a[a-z][A-Z][0-1]s$---->both at the begining and end of the string\n",
    "* a|b--->either a or b\n",
    "* ^a[a-z]{1,7}z$--->the braces are used to how many times repeated the lettes in a string\n",
    "* ab*c---->the star is used for no.of times b can be repeated or it is not necessary\n",
    "* ab+c---->the plus is used for atleast one time it can be taken and it is no.of times repeated\n",
    "* a.c--->the dot is used for any letter can be repeated for only one time\n"
   ]
  },
  {
   "cell_type": "markdown",
   "metadata": {},
   "source": [
    "# pnone number validation"
   ]
  },
  {
   "cell_type": "code",
   "execution_count": 2,
   "metadata": {},
   "outputs": [
    {
     "data": {
      "text/plain": [
       "1"
      ]
     },
     "execution_count": 2,
     "metadata": {},
     "output_type": "execute_result"
    }
   ],
   "source": [
    "#^+91[6-9][0-9]{9}$ # 10 digit number starting with +91\n",
    "#^[0][6-9][0-9]{9}$ # 10 digit number starting with 0\n",
    "#^[6-9][0-9]{9}$    # 10 digit number\n",
    "import re\n",
    "def phonenumber(no):\n",
    "    pattern='^[+][9][1][6-9][0-9]{9}$|^[0][6-9][0-9]{9}$|^[6-9][0-9]{9}$'\n",
    "    if re.match(pattern,str(no)):\n",
    "        return 1\n",
    "    else:\n",
    "        return 0\n",
    "phonenumber(\"+918919995471\")\n",
    "phonenumber(\"8919995471\") \n",
    "phonenumber(\"08919995471\")   "
   ]
  },
  {
   "cell_type": "markdown",
   "metadata": {},
   "source": [
    "# Roll number"
   ]
  },
  {
   "cell_type": "code",
   "execution_count": null,
   "metadata": {},
   "outputs": [],
   "source": [
    "# ^[0-9]{2}([a-z]|[A-Z]|[0-9]){2}[1][a-z|[A-Z]][0][0-9]{3}"
   ]
  },
  {
   "cell_type": "markdown",
   "metadata": {},
   "source": [
    "# email validation"
   ]
  },
  {
   "cell_type": "code",
   "execution_count": 1,
   "metadata": {},
   "outputs": [
    {
     "data": {
      "text/plain": [
       "1"
      ]
     },
     "execution_count": 1,
     "metadata": {},
     "output_type": "execute_result"
    }
   ],
   "source": [
    "# ^([a-z]|[A-Z]|[0-9])([a-z]|[A-Z]|[0-9]|[_]){6,15}([0-9]|[a-z])[@][a-z]{3,10}[.][a-z]{2,4}$\n",
    "import re\n",
    "def email(id):\n",
    "    pattern= '^([a-z]|[A-Z]|[0-9])([a-z]|[A-Z]|[0-9]|[_]){6,15}([0-9]|[a-z])[@][a-z]{3,10}[.][a-z]{2,4}$'\n",
    "    if re.match(pattern,str(id)):\n",
    "        return 1\n",
    "    else:\n",
    "        return 0\n",
    "email(\"dariuma54@gmail.com\")"
   ]
  },
  {
   "cell_type": "code",
   "execution_count": null,
   "metadata": {},
   "outputs": [],
   "source": [
    "\n",
    "    \n",
    "\n",
    "\n"
   ]
  }
 ],
 "metadata": {
  "kernelspec": {
   "display_name": "Python 3",
   "language": "python",
   "name": "python3"
  },
  "language_info": {
   "codemirror_mode": {
    "name": "ipython",
    "version": 3
   },
   "file_extension": ".py",
   "mimetype": "text/x-python",
   "name": "python",
   "nbconvert_exporter": "python",
   "pygments_lexer": "ipython3",
   "version": "3.7.3"
  }
 },
 "nbformat": 4,
 "nbformat_minor": 2
}
