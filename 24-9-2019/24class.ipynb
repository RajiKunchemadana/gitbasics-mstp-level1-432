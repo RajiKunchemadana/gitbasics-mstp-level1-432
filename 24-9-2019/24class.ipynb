{
 "cells": [
  {
   "cell_type": "markdown",
   "metadata": {},
   "source": [
    "# Functions\n",
    "#Reusability\n",
    "### easy to debug\n",
    "### function defination \n",
    "### function calling"
   ]
  },
  {
   "cell_type": "markdown",
   "metadata": {},
   "source": [
    "def functionname():# function defination\n",
    "    statement1\n",
    "    statement2\n",
    "functionname()#functioncalling\n",
    "    \n",
    "    "
   ]
  },
  {
   "cell_type": "code",
   "execution_count": 3,
   "metadata": {},
   "outputs": [
    {
     "name": "stdout",
     "output_type": "stream",
     "text": [
      "40\n",
      "50\n",
      "90\n"
     ]
    }
   ],
   "source": [
    "def addition():\n",
    "    x=int(input())\n",
    "    y=int(input())\n",
    "    print(x+y)\n",
    "addition()\n",
    "    "
   ]
  },
  {
   "cell_type": "code",
   "execution_count": 4,
   "metadata": {},
   "outputs": [
    {
     "name": "stdout",
     "output_type": "stream",
     "text": [
      "55\n",
      "44\n",
      "99\n"
     ]
    }
   ],
   "source": [
    "def addition(a,b):\n",
    "    c=a+b\n",
    "    print(c)\n",
    "a=int(input())\n",
    "b=int(input())\n",
    "addition(a,b)"
   ]
  },
  {
   "cell_type": "code",
   "execution_count": 5,
   "metadata": {},
   "outputs": [
    {
     "data": {
      "text/plain": [
       "(30, 66, 96)"
      ]
     },
     "execution_count": 5,
     "metadata": {},
     "output_type": "execute_result"
    }
   ],
   "source": [
    "def add(a,b):\n",
    "    c=a+b\n",
    "    return(a,b,c)\n",
    "add(30,66)"
   ]
  },
  {
   "cell_type": "code",
   "execution_count": 10,
   "metadata": {},
   "outputs": [
    {
     "name": "stdout",
     "output_type": "stream",
     "text": [
      "5\n",
      "odd\n"
     ]
    }
   ],
   "source": [
    "# even or add numbers\n",
    "def even(x):\n",
    "    if(x%2==0):\n",
    "        print(\"even\")\n",
    "    else:\n",
    "         print(\"odd\")\n",
    "x=int(input())\n",
    "even(x)\n",
    "\n",
    "\n",
    "\n",
    "    \n"
   ]
  },
  {
   "cell_type": "code",
   "execution_count": 12,
   "metadata": {},
   "outputs": [
    {
     "name": "stdout",
     "output_type": "stream",
     "text": [
      "4\n",
      "1\n",
      "3\n",
      "6\n",
      "10\n",
      "10\n"
     ]
    }
   ],
   "source": [
    "# sum of n natural numbers\n",
    "def sum(n):\n",
    "    s=0\n",
    "    for i in range(1,n+1):\n",
    "        s=s+i\n",
    "        print(s)\n",
    "    print(s)\n",
    "n=int(input())\n",
    "sum(n)"
   ]
  },
  {
   "cell_type": "code",
   "execution_count": 1,
   "metadata": {},
   "outputs": [
    {
     "name": "stdout",
     "output_type": "stream",
     "text": [
      "5\n",
      "1\n",
      "2\n",
      "6\n",
      "24\n",
      "120\n",
      "120\n"
     ]
    }
   ],
   "source": [
    "# find the product of n natural numbers\n",
    "def pro(n):\n",
    "    s=1\n",
    "    for i in range(1,n+1):\n",
    "        s=s*i\n",
    "        print(s)\n",
    "    print(s)\n",
    "n=int(input())\n",
    "pro(n)"
   ]
  },
  {
   "cell_type": "code",
   "execution_count": 10,
   "metadata": {},
   "outputs": [
    {
     "name": "stdout",
     "output_type": "stream",
     "text": [
      "5\n",
      "2\n",
      "4\n",
      "7\n",
      "11\n",
      "16\n",
      "3\n"
     ]
    }
   ],
   "source": [
    "# find the average of n natural numbers\n",
    "def average(n):\n",
    "    s=1\n",
    "    c=0\n",
    "    for i in range(1,n+1):\n",
    "        s=s+i\n",
    "        c=c+1\n",
    "        avg=s//c\n",
    "        print(s)\n",
    "    print(avg)\n",
    "n=int(input())\n",
    "average(n)\n",
    "\n",
    "\n"
   ]
  },
  {
   "cell_type": "code",
   "execution_count": 9,
   "metadata": {},
   "outputs": [
    {
     "name": "stdout",
     "output_type": "stream",
     "text": [
      "5\n",
      "0\n",
      "1\n",
      "1\n",
      "2\n",
      "3\n",
      "5\n",
      "8\n",
      "8\n"
     ]
    }
   ],
   "source": [
    "# find the fibanocci of a given number\n",
    "def fib(n):\n",
    "    a=0\n",
    "    b=1\n",
    "    print(a)\n",
    "    print(b)\n",
    "    for i in range(1,n+1):\n",
    "        c=a+b\n",
    "        a=b\n",
    "        b=c\n",
    "        print(c)\n",
    "    print(c)\n",
    "n=int(input())\n",
    "fib(n)"
   ]
  },
  {
   "cell_type": "code",
   "execution_count": 21,
   "metadata": {},
   "outputs": [
    {
     "name": "stdout",
     "output_type": "stream",
     "text": [
      "6\n",
      "1 2 3 6 "
     ]
    }
   ],
   "source": [
    "# print the factors of a given number\n",
    "def fact(n):\n",
    "    for i in range (1,n+1):\n",
    "        if(n%i==0):\n",
    "            print(i,end=\" \")\n",
    "n=int(input())\n",
    "fact(n)"
   ]
  },
  {
   "cell_type": "code",
   "execution_count": 22,
   "metadata": {},
   "outputs": [
    {
     "name": "stdout",
     "output_type": "stream",
     "text": [
      "6\n",
      "1\n",
      "3\n",
      "6\n",
      "12\n"
     ]
    }
   ],
   "source": [
    "# print the factors sum of a given number\n",
    "def fact(n):\n",
    "    s=0\n",
    "    for i in range(1,n+1):\n",
    "        if(n%i==0):\n",
    "            s=s+i\n",
    "            print(s)\n",
    "n=int(input())\n",
    "fact(n)\n"
   ]
  },
  {
   "cell_type": "code",
   "execution_count": 2,
   "metadata": {},
   "outputs": [
    {
     "name": "stdout",
     "output_type": "stream",
     "text": [
      "2017\n",
      "not leapyear\n"
     ]
    }
   ],
   "source": [
    "# print the given year is a leapyear or not\n",
    "def leap(n):\n",
    "        if((n%4==0 and n%100!=0) or n%400==0):\n",
    "            print(\"leapyear\")\n",
    "        else:\n",
    "            print(\"not leapyear\")\n",
    "n=int(input())\n",
    "leap(n)"
   ]
  },
  {
   "cell_type": "code",
   "execution_count": 33,
   "metadata": {},
   "outputs": [
    {
     "name": "stdout",
     "output_type": "stream",
     "text": [
      "6\n",
      "6\n",
      "perfect\n"
     ]
    }
   ],
   "source": [
    "# print the given number is perfect or not\n",
    "def per(n):\n",
    "    s=0\n",
    "    for i in range(1,n):\n",
    "        if(n%i==0):\n",
    "            s=s+i\n",
    "    print(s)\n",
    "    if(n==s):\n",
    "        print(\"perfect\")\n",
    "    else:\n",
    "        print(\"notperfect\")\n",
    "n=int(input())\n",
    "per(n)\n",
    "            "
   ]
  },
  {
   "cell_type": "code",
   "execution_count": 34,
   "metadata": {},
   "outputs": [
    {
     "name": "stdout",
     "output_type": "stream",
     "text": [
      "4\n",
      "10\n"
     ]
    }
   ],
   "source": [
    "# print the sum of the digits\n",
    "def sum(n):\n",
    "    s=0\n",
    "    for i in range(1,n+1):\n",
    "        s=s+i\n",
    "    print(s)\n",
    "n=int(input())\n",
    "sum(n)"
   ]
  },
  {
   "cell_type": "code",
   "execution_count": 10,
   "metadata": {},
   "outputs": [
    {
     "name": "stdout",
     "output_type": "stream",
     "text": [
      "123\n",
      "36\n",
      "not armstrong\n"
     ]
    }
   ],
   "source": [
    "# print wheather a given number is armstrong or not\n",
    "def arm(n):\n",
    "    s=0\n",
    "    a=n\n",
    "    for i in range(1,n+1):\n",
    "        r=n%10\n",
    "        s=s+r**3\n",
    "        n=n//10\n",
    "    print(s)\n",
    "    if(a==s):\n",
    "        print(\"armstrong\")\n",
    "    else:\n",
    "        print(\"not armstrong\")\n",
    "n=int(input())\n",
    "arm(n)"
   ]
  },
  {
   "cell_type": "code",
   "execution_count": 16,
   "metadata": {},
   "outputs": [
    {
     "name": "stdout",
     "output_type": "stream",
     "text": [
      "6\n",
      "4\n",
      "notprime\n"
     ]
    }
   ],
   "source": [
    "# print wheather a given number is prime or not\n",
    "def prime(n):\n",
    "    f=0\n",
    "    for i in range(1,n+1):\n",
    "        if(n%i==0):\n",
    "            f=f+1\n",
    "    print(f)\n",
    "    if(f==2):\n",
    "        print(\"prime\")\n",
    "    else:\n",
    "        print(\"notprime\")\n",
    "n=int(input())\n",
    "prime(n)\n"
   ]
  },
  {
   "cell_type": "code",
   "execution_count": null,
   "metadata": {},
   "outputs": [],
   "source": []
  }
 ],
 "metadata": {
  "kernelspec": {
   "display_name": "Python 3",
   "language": "python",
   "name": "python3"
  },
  "language_info": {
   "codemirror_mode": {
    "name": "ipython",
    "version": 3
   },
   "file_extension": ".py",
   "mimetype": "text/x-python",
   "name": "python",
   "nbconvert_exporter": "python",
   "pygments_lexer": "ipython3",
   "version": "3.7.3"
  }
 },
 "nbformat": 4,
 "nbformat_minor": 2
}
