{
 "cells": [
  {
   "cell_type": "markdown",
   "metadata": {},
   "source": [
    "# Task"
   ]
  },
  {
   "cell_type": "code",
   "execution_count": 8,
   "metadata": {},
   "outputs": [
    {
     "name": "stdout",
     "output_type": "stream",
     "text": [
      "5\n",
      "1\n",
      "7\n"
     ]
    }
   ],
   "source": [
    "###### Check if the number exist in a given range (inputs:number(n),range(lower number and upper number))\n",
    "def num(n):\n",
    "    for i in range(lb,ub,n+1):\n",
    "        if(lb<= n <=ub):\n",
    "            print(\"num their\")\n",
    "        else:\n",
    "            print(\"num is not their\")\n",
    "n=int(input())\n",
    "ub=int(input())\n",
    "lb=int(input())\n",
    "num(n)\n",
    "        "
   ]
  },
  {
   "cell_type": "code",
   "execution_count": 11,
   "metadata": {},
   "outputs": [
    {
     "name": "stdout",
     "output_type": "stream",
     "text": [
      "16\n",
      "4\n"
     ]
    }
   ],
   "source": [
    "# calculate the square root of a given number\n",
    "def squ(n):\n",
    "    \n",
    "    for i in range(1,n+1):\n",
    "        if(i*i==n):\n",
    "            print(i)\n",
    "n=int(input())\n",
    "squ(n)\n"
   ]
  },
  {
   "cell_type": "code",
   "execution_count": 5,
   "metadata": {},
   "outputs": [],
   "source": [
    "#  6.A school has following rules for grading system\n",
    "#below 25-f\n",
    "#25 t045-e\n",
    "#45to50-d\n",
    "#50to60-c\n",
    "#60to80-b\n",
    "#above80=a\n",
    "#ask user to enter marks and print the corresponding grades\n",
    "def grad(n):\n",
    "    for i in range(1,n+1):\n",
    "        while(1):\n",
    "            if(n<=25):\n",
    "                print(\"f grade\")\n",
    "            elif(25<=n<=45):\n",
    "                print(\"e grade\")\n",
    "            elif(45<=n<=50):\n",
    "                print(\"d grade\")\n",
    "            elif(50<=n<=60):\n",
    "                print(\"c grade\")\n",
    "            elif(60<=n<=80):\n",
    "                print(\"b grade\")\n",
    "            elif(n>=80):\n",
    "                print(\"a grade\")\n",
    "            else:\n",
    "                break"
   ]
  },
  {
   "cell_type": "code",
   "execution_count": null,
   "metadata": {},
   "outputs": [],
   "source": []
  }
 ],
 "metadata": {
  "kernelspec": {
   "display_name": "Python 3",
   "language": "python",
   "name": "python3"
  },
  "language_info": {
   "codemirror_mode": {
    "name": "ipython",
    "version": 3
   },
   "file_extension": ".py",
   "mimetype": "text/x-python",
   "name": "python",
   "nbconvert_exporter": "python",
   "pygments_lexer": "ipython3",
   "version": "3.7.3"
  }
 },
 "nbformat": 4,
 "nbformat_minor": 2
}
