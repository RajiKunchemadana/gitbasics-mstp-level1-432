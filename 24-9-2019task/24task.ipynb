{
 "cells": [
  {
   "cell_type": "markdown",
   "metadata": {},
   "source": [
    "# Task"
   ]
  },
  {
   "cell_type": "code",
   "execution_count": 6,
   "metadata": {},
   "outputs": [
    {
     "name": "stdout",
     "output_type": "stream",
     "text": [
      "1\n",
      "8\n",
      "5\n",
      "num their\n"
     ]
    }
   ],
   "source": [
    "###### 1.Check if the number exist in a given range (inputs:number(n),range(lower number and upper number))\n",
    "def num(n):\n",
    "        if(lb<n<ub):\n",
    "            print(\"num their\")\n",
    "        else:\n",
    "            print(\"num is not their\")\n",
    "lb=int(input())\n",
    "ub=int(input())\n",
    "n=int(input())\n",
    "num(n)\n",
    "        "
   ]
  },
  {
   "cell_type": "code",
   "execution_count": 4,
   "metadata": {},
   "outputs": [
    {
     "name": "stdout",
     "output_type": "stream",
     "text": [
      "12345\n",
      "5\n"
     ]
    }
   ],
   "source": [
    "# 2.check the number of digits ina given number\n",
    "def dig(n):\n",
    "        print(len(n))\n",
    "    \n",
    "n=input()\n",
    "dig(n)\n",
    "\n",
    "\n"
   ]
  },
  {
   "cell_type": "code",
   "execution_count": 15,
   "metadata": {},
   "outputs": [
    {
     "name": "stdout",
     "output_type": "stream",
     "text": [
      "4\n",
      "factor\n"
     ]
    }
   ],
   "source": [
    "# 3.check if the number is a factor of 1000\n",
    "def fact(n):\n",
    "\n",
    "        if(1000%n==0):\n",
    "            print(\"factor\")\n",
    "        else:\n",
    "                print(\"not factor\")\n",
    "n=int(input())\n",
    "fact(n)\n",
    "        "
   ]
  },
  {
   "cell_type": "code",
   "execution_count": 13,
   "metadata": {},
   "outputs": [
    {
     "name": "stdout",
     "output_type": "stream",
     "text": [
      "4\n",
      "2.0\n"
     ]
    }
   ],
   "source": [
    "# 4.calculate the square root of a given number\n",
    "def squ(n):\n",
    "    sq_=n**0.5\n",
    "    print(round(sq_,2))\n",
    "n=int(input())\n",
    "squ(n)\n"
   ]
  },
  {
   "cell_type": "code",
   "execution_count": 21,
   "metadata": {},
   "outputs": [
    {
     "name": "stdout",
     "output_type": "stream",
     "text": [
      "5\n",
      "5\n",
      "square\n"
     ]
    }
   ],
   "source": [
    "# 5.python program to take values of length and breadth(width) of a rectangle from user and check if it is square or not. . \n",
    "def rec(l,b):\n",
    "    if(l==b):\n",
    "        print(\"square\")\n",
    "    else:\n",
    "        print(\"rectangle\")\n",
    "l=int(input())\n",
    "b=int(input())\n",
    "rec(l,b)"
   ]
  },
  {
   "cell_type": "code",
   "execution_count": 18,
   "metadata": {},
   "outputs": [
    {
     "name": "stdout",
     "output_type": "stream",
     "text": [
      "88\n",
      "a grade\n"
     ]
    }
   ],
   "source": [
    "#  6.A school has following rules for grading system\n",
    "#below 25-f\n",
    "#25 t045-e\n",
    "#45to50-d\n",
    "#50to60-c\n",
    "#60to80-b\n",
    "#above80=a\n",
    "#ask user to enter marks and print the corresponding grades\n",
    "def grad(n):\n",
    "            if(n<=25):\n",
    "                print(\"f grade\")\n",
    "            elif(25<=n<=45):\n",
    "                print(\"e grade\")\n",
    "            elif(45<=n<=50):\n",
    "                print(\"d grade\")\n",
    "            elif(50<=n<=60):\n",
    "                print(\"c grade\")\n",
    "            elif(60<=n<=80):\n",
    "                print(\"b grade\")\n",
    "            else:\n",
    "                print(\"a grade\")\n",
    "        \n",
    "n=int(input())\n",
    "grad(n)\n",
    "\n"
   ]
  },
  {
   "cell_type": "code",
   "execution_count": 17,
   "metadata": {},
   "outputs": [
    {
     "name": "stdout",
     "output_type": "stream",
     "text": [
      "20\n",
      "30\n",
      "65\n",
      "older 65\n",
      "younger 20\n"
     ]
    }
   ],
   "source": [
    "## 7.Take input of 3peoples by user and determine oldest and youngest among them\n",
    "def fun(n,m,o):\n",
    "    if(n>m and n>o):\n",
    "        older=n\n",
    "    elif(m>n and n>o):\n",
    "        older=m\n",
    "    else:\n",
    "        older=o\n",
    "    if(n<m and n<o):\n",
    "        younger=n\n",
    "    elif(m<n and n<o):\n",
    "        younger=m\n",
    "    else:\n",
    "        younger=orec\n",
    "    print(\"older\",older)\n",
    "    print(\"younger\",younger)\n",
    "        \n",
    "n=int(input())\n",
    "m=int(input())\n",
    "o=int(input())\n",
    "fun(n,m,o)"
   ]
  },
  {
   "cell_type": "code",
   "execution_count": 3,
   "metadata": {},
   "outputs": [
    {
     "name": "stdout",
     "output_type": "stream",
     "text": [
      "100\n",
      "50\n",
      "50.0\n",
      "not allowed\n"
     ]
    }
   ],
   "source": [
    "#8..A student will not be allowed to sit in exam if his/her attendance is less than 75%.\n",
    "#Take following input from user Number of classes held,Number of classes attended.\n",
    "#And print percentage of class attended Is student is allowed to sit in exam or not.  \n",
    "def stu(n,p):\n",
    "    per=((p/n)*100)\n",
    "    print(per)\n",
    "    if(per>=75):\n",
    "        print(\"allowed\")\n",
    "    else:\n",
    "        print(\"not allowed\")\n",
    "n=int(input())\n",
    "p=int(input())\n",
    "stu(n,p)   "
   ]
  },
  {
   "cell_type": "code",
   "execution_count": null,
   "metadata": {},
   "outputs": [],
   "source": []
  }
 ],
 "metadata": {
  "kernelspec": {
   "display_name": "Python 3",
   "language": "python",
   "name": "python3"
  },
  "language_info": {
   "codemirror_mode": {
    "name": "ipython",
    "version": 3
   },
   "file_extension": ".py",
   "mimetype": "text/x-python",
   "name": "python",
   "nbconvert_exporter": "python",
   "pygments_lexer": "ipython3",
   "version": "3.7.3"
  }
 },
 "nbformat": 4,
 "nbformat_minor": 2
}
