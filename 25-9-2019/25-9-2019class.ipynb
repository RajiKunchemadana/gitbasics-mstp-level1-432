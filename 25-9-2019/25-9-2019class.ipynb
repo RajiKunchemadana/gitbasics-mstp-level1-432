{
 "cells": [
  {
   "cell_type": "code",
   "execution_count": 1,
   "metadata": {},
   "outputs": [
    {
     "name": "stdout",
     "output_type": "stream",
     "text": [
      "1\n",
      "10\n",
      "2 3 5 7 "
     ]
    }
   ],
   "source": [
    " #function to generate all the prime numbers ina given range\n",
    "def prime(lb):\n",
    "    c=0\n",
    "    for i in range(1,lb+1):\n",
    "        if lb%i==0:\n",
    "            c=c+1\n",
    "    if c==2:\n",
    "        print(i,end=\" \")\n",
    "    \n",
    "lb=int(input())\n",
    "ub=int(input())\n",
    "for j in range(lb,ub+1):\n",
    "    prime(j)\n",
    "            "
   ]
  },
  {
   "cell_type": "code",
   "execution_count": 2,
   "metadata": {},
   "outputs": [
    {
     "name": "stdout",
     "output_type": "stream",
     "text": [
      "1\n",
      "20\n",
      "2 3 5 7 11 13 17 19 "
     ]
    }
   ],
   "source": [
    "## function to generate all the prime numbers ina given range\n",
    "def prime(lb):\n",
    "    c=0\n",
    "    for i in range(1,lb+1):\n",
    "        if lb%i==0:\n",
    "            c=c+1\n",
    "    if c==2:\n",
    "        return 1\n",
    "    else:\n",
    "        return 0    \n",
    "lb=int(input())\n",
    "ub=int(input())\n",
    "for j in range(lb,ub+1):\n",
    "    if prime(j)==1:\n",
    "        print(j,end=\" \")"
   ]
  },
  {
   "cell_type": "markdown",
   "metadata": {},
   "source": []
  }
 ],
 "metadata": {
  "kernelspec": {
   "display_name": "Python 3",
   "language": "python",
   "name": "python3"
  },
  "language_info": {
   "codemirror_mode": {
    "name": "ipython",
    "version": 3
   },
   "file_extension": ".py",
   "mimetype": "text/x-python",
   "name": "python",
   "nbconvert_exporter": "python",
   "pygments_lexer": "ipython3",
   "version": "3.7.3"
  }
 },
 "nbformat": 4,
 "nbformat_minor": 2
}
