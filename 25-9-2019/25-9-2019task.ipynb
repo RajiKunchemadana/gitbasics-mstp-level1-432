{
 "cells": [
  {
   "cell_type": "code",
   "execution_count": 2,
   "metadata": {},
   "outputs": [
    {
     "name": "stdout",
     "output_type": "stream",
     "text": [
      "10\n",
      "20\n",
      "12\n",
      "18\n"
     ]
    }
   ],
   "source": [
    "# function to print all the numbers divisible by 6 and not a factor of 100 ina given range (lb,ub)inclusive\n",
    "def num(lb):\n",
    "        if lb%6==0 and 100%lb!=0:\n",
    "            return 1\n",
    "        else:\n",
    "            return 0\n",
    "lb=int(input())\n",
    "ub=int(input())\n",
    "for j in range(lb,ub):\n",
    "    ifnum(j)==1:\n",
    "        print(j)\n",
    "        "
   ]
  },
  {
   "cell_type": "code",
   "execution_count": 3,
   "metadata": {},
   "outputs": [
    {
     "name": "stdout",
     "output_type": "stream",
     "text": [
      "30\n",
      "40\n",
      "30\n",
      "32\n",
      "34\n",
      "36\n",
      "38\n"
     ]
    }
   ],
   "source": [
    "#### to print all the even number in a given range in inclusive\n",
    "def even(lb):\n",
    "        if(lb%2==0):\n",
    "            return 1\n",
    "        else:\n",
    "            return 0\n",
    "lb=int(input())\n",
    "ub=int(input())\n",
    "for j in range(lb,ub):\n",
    "    if even(j)==1:\n",
    "        print(j)"
   ]
  },
  {
   "cell_type": "code",
   "execution_count": 3,
   "metadata": {},
   "outputs": [
    {
     "name": "stdout",
     "output_type": "stream",
     "text": [
      "1\n",
      "5\n",
      "avg 8.0\n",
      "avg 36.0\n"
     ]
    }
   ],
   "source": [
    "# functions to find the average of cubes of all even numbers in a given range (lb,ub)inclusive\n",
    "def cub(lb,ub):\n",
    "    c=0\n",
    "    s=0\n",
    "    for j in range(lb,ub):\n",
    "        if(j%2==0):\n",
    "            a=j**3\n",
    "            s=s+a\n",
    "            c=c+1\n",
    "            print(\"avg\",s/c)\n",
    "lb=int(input())\n",
    "ub=int(input())\n",
    "cub(lb,ub)\n",
    "    "
   ]
  },
  {
   "cell_type": "code",
   "execution_count": null,
   "metadata": {},
   "outputs": [
    {
     "name": "stdout",
     "output_type": "stream",
     "text": [
      "1\n"
     ]
    }
   ],
   "source": [
    "# program to print all the sum of perfect numbers in a given range\n",
    "def per(lb):\n",
    "    s=0\n",
    "    for i in range(1,lb+1):\n",
    "        if(lb%i==0):\n",
    "            s=s+i\n",
    "    if(s==lb):\n",
    "        print(lb)\n",
    "lb=int(input())\n",
    "ub=int(input())\n",
    "for j in range(lb,ub+1):\n",
    "    per(j)\n",
    "        \n",
    "        "
   ]
  },
  {
   "cell_type": "markdown",
   "metadata": {},
   "source": [
    "# \n",
    "def arm(n):\n",
    "    s=0\n",
    "    a=n\n",
    "    for i in range(1,n+1):\n",
    "        r=n%10\n",
    "        s=s+r**3\n",
    "        n=n//10\n",
    "    print(s)\n",
    "    if(a==s):\n",
    "        print(\"armstrong\")\n",
    "        print(\"odd\")\n",
    "    else:\n",
    "        print(\"not armstrong\")\n",
    "n=int(input())\n",
    "arm(n)\n",
    "    "
   ]
  },
  {
   "cell_type": "code",
   "execution_count": null,
   "metadata": {},
   "outputs": [],
   "source": []
  }
 ],
 "metadata": {
  "kernelspec": {
   "display_name": "Python 3",
   "language": "python",
   "name": "python3"
  },
  "language_info": {
   "codemirror_mode": {
    "name": "ipython",
    "version": 3
   },
   "file_extension": ".py",
   "mimetype": "text/x-python",
   "name": "python",
   "nbconvert_exporter": "python",
   "pygments_lexer": "ipython3",
   "version": "3.7.3"
  }
 },
 "nbformat": 4,
 "nbformat_minor": 2
}
