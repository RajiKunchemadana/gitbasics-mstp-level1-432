{
 "cells": [
  {
   "cell_type": "markdown",
   "metadata": {},
   "source": [
    "# TASK"
   ]
  },
  {
   "cell_type": "code",
   "execution_count": 50,
   "metadata": {},
   "outputs": [
    {
     "name": "stdout",
     "output_type": "stream",
     "text": [
      "15\n",
      "{1: 1, 2: 4, 3: 9, 4: 16, 5: 25, 6: 36, 7: 49, 8: 64, 9: 81, 10: 100, 11: 121, 12: 144, 13: 169, 14: 196, 15: 225}\n",
      "[1, 4, 9, 16, 25, 36, 49, 64, 81, 100, 121, 144, 169, 196, 225]\n"
     ]
    }
   ],
   "source": [
    "#1.Write a Python program to generate and print a list and a dictionary of square of numbers between 1 and 15\n",
    "#(both included)\n",
    "l={}\n",
    "a=[]\n",
    "n=int(input())\n",
    "for i in range(1,n+1):\n",
    "    l[i]=i**2\n",
    "    a.append(i**2)\n",
    "print(l)\n",
    "print(a)"
   ]
  },
  {
   "cell_type": "code",
   "execution_count": 30,
   "metadata": {},
   "outputs": [
    {
     "name": "stdout",
     "output_type": "stream",
     "text": [
      "10\n",
      "1\n",
      "2\n",
      "3\n",
      "4\n",
      "3\n",
      "9\n",
      "6\n",
      "7\n",
      "8\n",
      "5\n",
      "[1, 2, 3, 4, 3, 9, 6, 7, 8, 5]\n"
     ]
    }
   ],
   "source": [
    "#2.Take 10 integer inputs from user and store them in a list and print them on screen.\n",
    "\n",
    "n=int(input())\n",
    "l=[]\n",
    "for i in range(1,n+1):\n",
    "    n1=int(input())\n",
    "    l.append(n1)\n",
    "print(l)\n"
   ]
  },
  {
   "cell_type": "code",
   "execution_count": 57,
   "metadata": {},
   "outputs": [
    {
     "name": "stdout",
     "output_type": "stream",
     "text": [
      "[2, 4]\n"
     ]
    }
   ],
   "source": [
    "# 3.l=[1,5,7,3,2,4,5,9],print list of all even numbers from the given list \n",
    "l=[1,5,7,3,2,4,5,9]\n",
    "l1=[]\n",
    "for i in l:\n",
    "    if(i%2==0):\n",
    "        l1.append(i)\n",
    "print(l1)\n",
    "    \n",
    "\n",
    "\n",
    "    \n",
    "    "
   ]
  },
  {
   "cell_type": "code",
   "execution_count": 39,
   "metadata": {},
   "outputs": [
    {
     "name": "stdout",
     "output_type": "stream",
     "text": [
      "1\n",
      "-9\n",
      "0\n",
      "0\n",
      "7\n",
      "4\n",
      "3\n",
      "-8\n",
      "-7\n",
      "6\n",
      "{'p': 5, 'n': 3, 'e': 3, 'o': 5, 'z': 2}\n"
     ]
    }
   ],
   "source": [
    "#4.Take 10 integer inputs from user and print the following:\n",
    "#number of positive numbers\n",
    "#number of negative numbers\n",
    "#number of odd numbers\n",
    "#number of even numbers\n",
    "##number of 0s.using dictionaries\n",
    "#a=[10,20,-5,-6,3,4,0,0,-2,8]\n",
    "#d={p:5,n:3,e:6,odd:2,0:2}\n",
    "l=[]\n",
    "for i in range(1,11):\n",
    "    n=int(input())\n",
    "    l.append(n)\n",
    "d={'p':0,'n':0,'e':0,'o':0,'z':0}\n",
    "for j in l:   \n",
    "    if(j>0):\n",
    "        d['p']+=1\n",
    "        if(j%2==0):\n",
    "            d['e']+=1\n",
    "        else:\n",
    "            d['o']+=1\n",
    "    elif(j<0):\n",
    "        d['n']+=1\n",
    "        if(j%2==0):\n",
    "            d['e']+=1\n",
    "        else:\n",
    "            d['o']+=1\n",
    "    elif j==0:\n",
    "        d['z']+=1\n",
    "print(d)\n",
    "        "
   ]
  },
  {
   "cell_type": "code",
   "execution_count": 14,
   "metadata": {},
   "outputs": [
    {
     "name": "stdout",
     "output_type": "stream",
     "text": [
      "3\n",
      "30\n",
      "a\n",
      "29\n",
      "b\n",
      "27\n",
      "c\n",
      "{30: 'a', 29: 'b', 27: 'c'}\n"
     ]
    }
   ],
   "source": [
    "### 5.Ask user to give name and marks of 10 different students. Store them in dictionary.\n",
    "d={}\n",
    "k=int(input())\n",
    "for i in range(1,k+1):\n",
    "        n=int(input())\n",
    "        m=input()\n",
    "        d[n]=m\n",
    "print(d)\n",
    "\n"
   ]
  },
  {
   "cell_type": "code",
   "execution_count": 16,
   "metadata": {},
   "outputs": [
    {
     "name": "stdout",
     "output_type": "stream",
     "text": [
      "[27, 29, 30]\n",
      "27 : c\n",
      "29 : b\n",
      "30 : a\n"
     ]
    }
   ],
   "source": [
    "### 6.Sort the dictionary created in previous example according to marks.\n",
    "\n",
    "a=sorted(d.keys())\n",
    "print(a)\n",
    "for i in a:\n",
    "    print(i,\":\",d[i])\n",
    "    \n"
   ]
  },
  {
   "cell_type": "code",
   "execution_count": 19,
   "metadata": {},
   "outputs": [
    {
     "name": "stdout",
     "output_type": "stream",
     "text": [
      "['right', 'top', 'push']\n",
      "right\n",
      "left\n"
     ]
    }
   ],
   "source": [
    "#7.Use dictionary to store antonyms of words. \n",
    "#E.g.- 'Right':'Left', 'Up':'Down', etc. Display all words and then ask user to enter a word and display antonym of it.\n",
    "s={\"right\":\"left\",\"top\":\"down\",\"push\":\"pull\"}\n",
    "print(list(s.keys()))\n",
    "n=input()\n",
    "print(s[n]) # print(s.get[n])\n"
   ]
  },
  {
   "cell_type": "code",
   "execution_count": 8,
   "metadata": {},
   "outputs": [
    {
     "name": "stdout",
     "output_type": "stream",
     "text": [
      "{'M': 1, 'I': 4, 'S': 4, 'P': 2}\n"
     ]
    }
   ],
   "source": [
    "#8.Count the number of occurrence of each letter in word \"MISSISSIPPI\". \n",
    "#Store count of every letter with the letter in a dictionary.\n",
    "a=\"MISSISSIPPI\"\n",
    "l={}\n",
    "for i in a:\n",
    "    l[i]=a.count(i)\n",
    "print(l)"
   ]
  },
  {
   "cell_type": "code",
   "execution_count": 55,
   "metadata": {},
   "outputs": [
    {
     "name": "stdout",
     "output_type": "stream",
     "text": [
      "I:4\n",
      "M:1\n",
      "P:2\n",
      "S:4\n"
     ]
    }
   ],
   "source": [
    "#9.From the previous question, sort according to the number of letters.\n",
    "a=\"MISSISSIPPI\"\n",
    "l={}\n",
    "b=sorted(b)\n",
    "for i in b:\n",
    "    l[i]=b\n",
    "    print(i,a.count(i),sep=\":\")\n"
   ]
  },
  {
   "cell_type": "code",
   "execution_count": null,
   "metadata": {},
   "outputs": [],
   "source": []
  }
 ],
 "metadata": {
  "kernelspec": {
   "display_name": "Python 3",
   "language": "python",
   "name": "python3"
  },
  "language_info": {
   "codemirror_mode": {
    "name": "ipython",
    "version": 3
   },
   "file_extension": ".py",
   "mimetype": "text/x-python",
   "name": "python",
   "nbconvert_exporter": "python",
   "pygments_lexer": "ipython3",
   "version": "3.7.3"
  }
 },
 "nbformat": 4,
 "nbformat_minor": 2
}
