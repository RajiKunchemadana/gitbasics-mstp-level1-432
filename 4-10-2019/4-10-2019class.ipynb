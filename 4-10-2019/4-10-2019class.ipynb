{
 "cells": [
  {
   "cell_type": "code",
   "execution_count": 1,
   "metadata": {},
   "outputs": [],
   "source": [
    "# File modes\n",
    "# tell\n",
    "# seek\n",
    "# w+-->write and read"
   ]
  },
  {
   "cell_type": "code",
   "execution_count": 11,
   "metadata": {},
   "outputs": [],
   "source": [
    "# create a file=file_operation.txt\n",
    "def file_operation(a):\n",
    "    a=open(\"file_operation.txt\",\"w\")\n",
    "    a.write(\"kvswcollege\\n\")\n",
    "    a.write(\"mstp\\n\")\n",
    "    a.write(\"helloworld\\n\")  # f.write(\"\\n python\")\n",
    "    a.close()                 # filewrite(file_operation,\"hello\")\n",
    "a=\"file_opertation.txt\"\n",
    "file_operation(a)\n",
    "\n",
    "    "
   ]
  },
  {
   "cell_type": "code",
   "execution_count": 21,
   "metadata": {},
   "outputs": [
    {
     "name": "stdout",
     "output_type": "stream",
     "text": [
      "kvswcollege\n",
      "mst\n",
      "16\n"
     ]
    }
   ],
   "source": [
    "f=open(\"file_operation.txt\",\"r\")\n",
    "f1=f.read(15)\n",
    "print(f1)\n",
    "print(f.tell())\n",
    "f.close()"
   ]
  },
  {
   "cell_type": "code",
   "execution_count": 24,
   "metadata": {},
   "outputs": [
    {
     "name": "stdout",
     "output_type": "stream",
     "text": [
      "kvswcollege\n",
      "mstp\n",
      "helloworld\n",
      "\n",
      "ollege\n",
      "mstp\n",
      "helloworld\n",
      "\n"
     ]
    }
   ],
   "source": [
    "x=open(\"file_operation.txt\",\"r\")\n",
    "print(x.read())\n",
    "x.seek(5)\n",
    "x.tell()\n",
    "print(x.read())"
   ]
  },
  {
   "cell_type": "code",
   "execution_count": 27,
   "metadata": {},
   "outputs": [
    {
     "name": "stdout",
     "output_type": "stream",
     "text": [
      "world is good\n"
     ]
    }
   ],
   "source": [
    "filepath=\"file_operation\"\n",
    "def writeread(filepath):\n",
    "    with open(filepath,\"w+\") as f:\n",
    "        f.write(\"world is good\")\n",
    "        f.seek(0)\n",
    "        f1=f.read()\n",
    "        print(f1)\n",
    "writeread(filepath)"
   ]
  },
  {
   "cell_type": "code",
   "execution_count": 38,
   "metadata": {},
   "outputs": [
    {
     "name": "stdout",
     "output_type": "stream",
     "text": [
      "454\n",
      "palindrome\n"
     ]
    }
   ],
   "source": [
    "n=input()\n",
    "def palin(n):\n",
    "    r=n[::-1]\n",
    "    if(n==r):\n",
    "        print(\"palindrome\")\n",
    "    else:\n",
    "        print(\"not palindrome\")\n",
    "    \n",
    "palin(n)\n",
    "    "
   ]
  },
  {
   "cell_type": "code",
   "execution_count": 5,
   "metadata": {},
   "outputs": [
    {
     "name": "stdout",
     "output_type": "stream",
     "text": [
      "12321\n",
      "palindrome\n"
     ]
    }
   ],
   "source": [
    "n=input()\n",
    "m=int(n)\n",
    "a=0\n",
    "for i in n:\n",
    "    r=int(n)%10\n",
    "    a=a*10+r\n",
    "    n=int(n)//10\n",
    "if(m==a):\n",
    "    print(\"palindrome\")\n",
    "else:\n",
    "    print(\"not palindrome\")\n"
   ]
  },
  {
   "cell_type": "code",
   "execution_count": null,
   "metadata": {},
   "outputs": [],
   "source": []
  },
  {
   "cell_type": "code",
   "execution_count": null,
   "metadata": {},
   "outputs": [],
   "source": []
  }
 ],
 "metadata": {
  "kernelspec": {
   "display_name": "Python 3",
   "language": "python",
   "name": "python3"
  },
  "language_info": {
   "codemirror_mode": {
    "name": "ipython",
    "version": 3
   },
   "file_extension": ".py",
   "mimetype": "text/x-python",
   "name": "python",
   "nbconvert_exporter": "python",
   "pygments_lexer": "ipython3",
   "version": "3.7.3"
  }
 },
 "nbformat": 4,
 "nbformat_minor": 2
}
